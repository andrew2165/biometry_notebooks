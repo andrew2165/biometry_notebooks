{
 "cells": [
  {
   "cell_type": "markdown",
   "metadata": {},
   "source": [
    "# Physiology Lab - Fall 2019\n",
    "# Oxygen Equilibrium of Hemocyanin Report\n",
    "\n",
    "For this report, Dr. Beers only wants three graphs generated from the data obtained during lab. \n",
    "\n",
    "1. Plot % Oxygen Saturation (y-axis) as a funciton of oxygen partial pressure (x-axis). Determine the P<sub>50</sub> of the pigment under the experimental conditions."
   ]
  },
  {
   "cell_type": "code",
   "execution_count": 2,
   "metadata": {},
   "outputs": [],
   "source": [
    "hemodat = read.csv('OxygenEqHemo.csv')\n",
    "hemodat$pH = as.factor(hemodat$pH)"
   ]
  },
  {
   "cell_type": "code",
   "execution_count": 3,
   "metadata": {},
   "outputs": [
    {
     "data": {
      "text/html": [
       "<table>\n",
       "<caption>A data.frame: 6 × 9</caption>\n",
       "<thead>\n",
       "\t<tr><th scope=col>pH</th><th scope=col>Volume.O2.Added..mL.</th><th scope=col>Absorbance</th><th scope=col>Barometric.Pressure..Torr.</th><th scope=col>Vapor.Pressure..Torr.</th><th scope=col>Volume.of.Tonometer..mL.</th><th scope=col>PO2</th><th scope=col>Percent.Oxy.Sat</th><th scope=col>hill</th></tr>\n",
       "\t<tr><th scope=col>&lt;fct&gt;</th><th scope=col>&lt;int&gt;</th><th scope=col>&lt;dbl&gt;</th><th scope=col>&lt;dbl&gt;</th><th scope=col>&lt;dbl&gt;</th><th scope=col>&lt;int&gt;</th><th scope=col>&lt;dbl&gt;</th><th scope=col>&lt;dbl&gt;</th><th scope=col>&lt;dbl&gt;</th></tr>\n",
       "</thead>\n",
       "<tbody>\n",
       "\t<tr><td>7.3</td><td> 0</td><td>0.007</td><td>764.25</td><td>24.195</td><td>610</td><td> 0.000000</td><td>        NA</td><td>        NA</td></tr>\n",
       "\t<tr><td>7.3</td><td> 5</td><td>0.017</td><td>764.25</td><td>24.195</td><td>610</td><td> 6.066025</td><td>0.03717472</td><td>-3.2542430</td></tr>\n",
       "\t<tr><td>7.3</td><td>15</td><td>0.027</td><td>764.25</td><td>24.195</td><td>610</td><td>18.198074</td><td>0.07434944</td><td>-2.5217206</td></tr>\n",
       "\t<tr><td>7.3</td><td>35</td><td>0.070</td><td>764.25</td><td>24.195</td><td>610</td><td>42.462172</td><td>0.23420074</td><td>-1.1847414</td></tr>\n",
       "\t<tr><td>7.3</td><td>55</td><td>0.153</td><td>764.25</td><td>24.195</td><td>610</td><td>66.726270</td><td>0.54275093</td><td> 0.1714223</td></tr>\n",
       "\t<tr><td>7.3</td><td>65</td><td>0.194</td><td>764.25</td><td>24.195</td><td>610</td><td>78.858320</td><td>0.69516729</td><td> 0.8243894</td></tr>\n",
       "</tbody>\n",
       "</table>\n"
      ],
      "text/latex": [
       "A data.frame: 6 × 9\n",
       "\\begin{tabular}{r|lllllllll}\n",
       " pH & Volume.O2.Added..mL. & Absorbance & Barometric.Pressure..Torr. & Vapor.Pressure..Torr. & Volume.of.Tonometer..mL. & PO2 & Percent.Oxy.Sat & hill\\\\\n",
       " <fct> & <int> & <dbl> & <dbl> & <dbl> & <int> & <dbl> & <dbl> & <dbl>\\\\\n",
       "\\hline\n",
       "\t 7.3 &  0 & 0.007 & 764.25 & 24.195 & 610 &  0.000000 &         NA &         NA\\\\\n",
       "\t 7.3 &  5 & 0.017 & 764.25 & 24.195 & 610 &  6.066025 & 0.03717472 & -3.2542430\\\\\n",
       "\t 7.3 & 15 & 0.027 & 764.25 & 24.195 & 610 & 18.198074 & 0.07434944 & -2.5217206\\\\\n",
       "\t 7.3 & 35 & 0.070 & 764.25 & 24.195 & 610 & 42.462172 & 0.23420074 & -1.1847414\\\\\n",
       "\t 7.3 & 55 & 0.153 & 764.25 & 24.195 & 610 & 66.726270 & 0.54275093 &  0.1714223\\\\\n",
       "\t 7.3 & 65 & 0.194 & 764.25 & 24.195 & 610 & 78.858320 & 0.69516729 &  0.8243894\\\\\n",
       "\\end{tabular}\n"
      ],
      "text/markdown": [
       "\n",
       "A data.frame: 6 × 9\n",
       "\n",
       "| pH &lt;fct&gt; | Volume.O2.Added..mL. &lt;int&gt; | Absorbance &lt;dbl&gt; | Barometric.Pressure..Torr. &lt;dbl&gt; | Vapor.Pressure..Torr. &lt;dbl&gt; | Volume.of.Tonometer..mL. &lt;int&gt; | PO2 &lt;dbl&gt; | Percent.Oxy.Sat &lt;dbl&gt; | hill &lt;dbl&gt; |\n",
       "|---|---|---|---|---|---|---|---|---|\n",
       "| 7.3 |  0 | 0.007 | 764.25 | 24.195 | 610 |  0.000000 |         NA |         NA |\n",
       "| 7.3 |  5 | 0.017 | 764.25 | 24.195 | 610 |  6.066025 | 0.03717472 | -3.2542430 |\n",
       "| 7.3 | 15 | 0.027 | 764.25 | 24.195 | 610 | 18.198074 | 0.07434944 | -2.5217206 |\n",
       "| 7.3 | 35 | 0.070 | 764.25 | 24.195 | 610 | 42.462172 | 0.23420074 | -1.1847414 |\n",
       "| 7.3 | 55 | 0.153 | 764.25 | 24.195 | 610 | 66.726270 | 0.54275093 |  0.1714223 |\n",
       "| 7.3 | 65 | 0.194 | 764.25 | 24.195 | 610 | 78.858320 | 0.69516729 |  0.8243894 |\n",
       "\n"
      ],
      "text/plain": [
       "  pH  Volume.O2.Added..mL. Absorbance Barometric.Pressure..Torr.\n",
       "1 7.3  0                   0.007      764.25                    \n",
       "2 7.3  5                   0.017      764.25                    \n",
       "3 7.3 15                   0.027      764.25                    \n",
       "4 7.3 35                   0.070      764.25                    \n",
       "5 7.3 55                   0.153      764.25                    \n",
       "6 7.3 65                   0.194      764.25                    \n",
       "  Vapor.Pressure..Torr. Volume.of.Tonometer..mL. PO2       Percent.Oxy.Sat\n",
       "1 24.195                610                       0.000000         NA     \n",
       "2 24.195                610                       6.066025 0.03717472     \n",
       "3 24.195                610                      18.198074 0.07434944     \n",
       "4 24.195                610                      42.462172 0.23420074     \n",
       "5 24.195                610                      66.726270 0.54275093     \n",
       "6 24.195                610                      78.858320 0.69516729     \n",
       "  hill      \n",
       "1         NA\n",
       "2 -3.2542430\n",
       "3 -2.5217206\n",
       "4 -1.1847414\n",
       "5  0.1714223\n",
       "6  0.8243894"
      ]
     },
     "metadata": {},
     "output_type": "display_data"
    }
   ],
   "source": [
    "hemodat$hill = log((hemodat$Percent.Oxy.Sat)*100/(100-(hemodat$Percent.Oxy.Sat*100)))\n",
    "head(hemodat)"
   ]
  },
  {
   "cell_type": "code",
   "execution_count": 4,
   "metadata": {},
   "outputs": [
    {
     "data": {
      "text/html": [
       "<table>\n",
       "<caption>A data.frame: 8 × 9</caption>\n",
       "<thead>\n",
       "\t<tr><th scope=col>pH</th><th scope=col>Volume.O2.Added..mL.</th><th scope=col>Absorbance</th><th scope=col>Barometric.Pressure..Torr.</th><th scope=col>Vapor.Pressure..Torr.</th><th scope=col>Volume.of.Tonometer..mL.</th><th scope=col>PO2</th><th scope=col>Percent.Oxy.Sat</th><th scope=col>hill</th></tr>\n",
       "\t<tr><th scope=col>&lt;fct&gt;</th><th scope=col>&lt;int&gt;</th><th scope=col>&lt;dbl&gt;</th><th scope=col>&lt;dbl&gt;</th><th scope=col>&lt;dbl&gt;</th><th scope=col>&lt;int&gt;</th><th scope=col>&lt;dbl&gt;</th><th scope=col>&lt;dbl&gt;</th><th scope=col>&lt;dbl&gt;</th></tr>\n",
       "</thead>\n",
       "<tbody>\n",
       "\t<tr><td>7.3</td><td> 0</td><td>0.007</td><td>764.25</td><td>24.195</td><td>610</td><td> 0.000000</td><td>        NA</td><td>        NA</td></tr>\n",
       "\t<tr><td>7.3</td><td> 5</td><td>0.017</td><td>764.25</td><td>24.195</td><td>610</td><td> 6.066025</td><td>0.03717472</td><td>-3.2542430</td></tr>\n",
       "\t<tr><td>7.3</td><td>15</td><td>0.027</td><td>764.25</td><td>24.195</td><td>610</td><td>18.198074</td><td>0.07434944</td><td>-2.5217206</td></tr>\n",
       "\t<tr><td>7.3</td><td>35</td><td>0.070</td><td>764.25</td><td>24.195</td><td>610</td><td>42.462172</td><td>0.23420074</td><td>-1.1847414</td></tr>\n",
       "\t<tr><td>7.3</td><td>55</td><td>0.153</td><td>764.25</td><td>24.195</td><td>610</td><td>66.726270</td><td>0.54275093</td><td> 0.1714223</td></tr>\n",
       "\t<tr><td>7.3</td><td>65</td><td>0.194</td><td>764.25</td><td>24.195</td><td>610</td><td>78.858320</td><td>0.69516729</td><td> 0.8243894</td></tr>\n",
       "\t<tr><td>7.3</td><td>70</td><td>0.201</td><td>764.25</td><td>24.195</td><td>610</td><td>84.924344</td><td>0.72118959</td><td> 0.9503700</td></tr>\n",
       "\t<tr><td>7.3</td><td>75</td><td>0.223</td><td>764.25</td><td>24.195</td><td>610</td><td>90.990369</td><td>0.80297398</td><td> 1.4049865</td></tr>\n",
       "</tbody>\n",
       "</table>\n"
      ],
      "text/latex": [
       "A data.frame: 8 × 9\n",
       "\\begin{tabular}{r|lllllllll}\n",
       " pH & Volume.O2.Added..mL. & Absorbance & Barometric.Pressure..Torr. & Vapor.Pressure..Torr. & Volume.of.Tonometer..mL. & PO2 & Percent.Oxy.Sat & hill\\\\\n",
       " <fct> & <int> & <dbl> & <dbl> & <dbl> & <int> & <dbl> & <dbl> & <dbl>\\\\\n",
       "\\hline\n",
       "\t 7.3 &  0 & 0.007 & 764.25 & 24.195 & 610 &  0.000000 &         NA &         NA\\\\\n",
       "\t 7.3 &  5 & 0.017 & 764.25 & 24.195 & 610 &  6.066025 & 0.03717472 & -3.2542430\\\\\n",
       "\t 7.3 & 15 & 0.027 & 764.25 & 24.195 & 610 & 18.198074 & 0.07434944 & -2.5217206\\\\\n",
       "\t 7.3 & 35 & 0.070 & 764.25 & 24.195 & 610 & 42.462172 & 0.23420074 & -1.1847414\\\\\n",
       "\t 7.3 & 55 & 0.153 & 764.25 & 24.195 & 610 & 66.726270 & 0.54275093 &  0.1714223\\\\\n",
       "\t 7.3 & 65 & 0.194 & 764.25 & 24.195 & 610 & 78.858320 & 0.69516729 &  0.8243894\\\\\n",
       "\t 7.3 & 70 & 0.201 & 764.25 & 24.195 & 610 & 84.924344 & 0.72118959 &  0.9503700\\\\\n",
       "\t 7.3 & 75 & 0.223 & 764.25 & 24.195 & 610 & 90.990369 & 0.80297398 &  1.4049865\\\\\n",
       "\\end{tabular}\n"
      ],
      "text/markdown": [
       "\n",
       "A data.frame: 8 × 9\n",
       "\n",
       "| pH &lt;fct&gt; | Volume.O2.Added..mL. &lt;int&gt; | Absorbance &lt;dbl&gt; | Barometric.Pressure..Torr. &lt;dbl&gt; | Vapor.Pressure..Torr. &lt;dbl&gt; | Volume.of.Tonometer..mL. &lt;int&gt; | PO2 &lt;dbl&gt; | Percent.Oxy.Sat &lt;dbl&gt; | hill &lt;dbl&gt; |\n",
       "|---|---|---|---|---|---|---|---|---|\n",
       "| 7.3 |  0 | 0.007 | 764.25 | 24.195 | 610 |  0.000000 |         NA |         NA |\n",
       "| 7.3 |  5 | 0.017 | 764.25 | 24.195 | 610 |  6.066025 | 0.03717472 | -3.2542430 |\n",
       "| 7.3 | 15 | 0.027 | 764.25 | 24.195 | 610 | 18.198074 | 0.07434944 | -2.5217206 |\n",
       "| 7.3 | 35 | 0.070 | 764.25 | 24.195 | 610 | 42.462172 | 0.23420074 | -1.1847414 |\n",
       "| 7.3 | 55 | 0.153 | 764.25 | 24.195 | 610 | 66.726270 | 0.54275093 |  0.1714223 |\n",
       "| 7.3 | 65 | 0.194 | 764.25 | 24.195 | 610 | 78.858320 | 0.69516729 |  0.8243894 |\n",
       "| 7.3 | 70 | 0.201 | 764.25 | 24.195 | 610 | 84.924344 | 0.72118959 |  0.9503700 |\n",
       "| 7.3 | 75 | 0.223 | 764.25 | 24.195 | 610 | 90.990369 | 0.80297398 |  1.4049865 |\n",
       "\n"
      ],
      "text/plain": [
       "  pH  Volume.O2.Added..mL. Absorbance Barometric.Pressure..Torr.\n",
       "1 7.3  0                   0.007      764.25                    \n",
       "2 7.3  5                   0.017      764.25                    \n",
       "3 7.3 15                   0.027      764.25                    \n",
       "4 7.3 35                   0.070      764.25                    \n",
       "5 7.3 55                   0.153      764.25                    \n",
       "6 7.3 65                   0.194      764.25                    \n",
       "7 7.3 70                   0.201      764.25                    \n",
       "8 7.3 75                   0.223      764.25                    \n",
       "  Vapor.Pressure..Torr. Volume.of.Tonometer..mL. PO2       Percent.Oxy.Sat\n",
       "1 24.195                610                       0.000000         NA     \n",
       "2 24.195                610                       6.066025 0.03717472     \n",
       "3 24.195                610                      18.198074 0.07434944     \n",
       "4 24.195                610                      42.462172 0.23420074     \n",
       "5 24.195                610                      66.726270 0.54275093     \n",
       "6 24.195                610                      78.858320 0.69516729     \n",
       "7 24.195                610                      84.924344 0.72118959     \n",
       "8 24.195                610                      90.990369 0.80297398     \n",
       "  hill      \n",
       "1         NA\n",
       "2 -3.2542430\n",
       "3 -2.5217206\n",
       "4 -1.1847414\n",
       "5  0.1714223\n",
       "6  0.8243894\n",
       "7  0.9503700\n",
       "8  1.4049865"
      ]
     },
     "metadata": {},
     "output_type": "display_data"
    }
   ],
   "source": [
    "hem_73 = hemodat[hemodat$pH == '7.3',]\n",
    "hem_68 = hemodat[hemodat$pH == '6.8',]\n",
    "hem_78 = hemodat[hemodat$pH == '7.8',]\n",
    "hem_73"
   ]
  },
  {
   "cell_type": "code",
   "execution_count": 5,
   "metadata": {},
   "outputs": [
    {
     "name": "stderr",
     "output_type": "stream",
     "text": [
      "Loading required package: nlme\n",
      "\n",
      "Loading required package: ggplot2\n",
      "\n",
      "Loading required package: ggpubr\n",
      "\n",
      "Loading required package: magrittr\n",
      "\n"
     ]
    }
   ],
   "source": [
    "require(nlme)\n",
    "require(ggplot2)\n",
    "require(ggpubr)"
   ]
  },
  {
   "cell_type": "code",
   "execution_count": 33,
   "metadata": {},
   "outputs": [
    {
     "data": {
      "text/plain": [
       "Nonlinear regression model\n",
       "  model: Percent.Oxy.Sat ~ SSlogis(PO2, Asym, xmid, scal)\n",
       "   data: hem_73\n",
       "   Asym    xmid    scal \n",
       " 0.9347 61.2645 17.4007 \n",
       " residual sum-of-squares: 0.0007583\n",
       "\n",
       "Number of iterations to convergence: 0 \n",
       "Achieved convergence tolerance: 4.584e-07"
      ]
     },
     "metadata": {},
     "output_type": "display_data"
    },
    {
     "data": {
      "image/png": "[encoded data removed]",
      "text/plain": [
       "plot without title"
      ]
     },
     "metadata": {
      "image/png": {
       "height": 420,
       "width": 420
      },
      "text/plain": {
       "height": 420,
       "width": 420
      }
     },
     "output_type": "display_data"
    }
   ],
   "source": [
    "fit73 = nls(Percent.Oxy.Sat~SSlogis(PO2,Asym,xmid,scal), data=hem_73)\n",
    "fit73\n",
    "#plot(Percent.Oxy.Sat~PO2,data=hem_73,type=\"p\")\n",
    "nd = seq(0, max(hem_73$PO2), 0.01)\n",
    "#plot(predict(fit73)~PO2, data=hem_73, type=\"l\")"
   ]
  },
  {
   "cell_type": "code",
   "execution_count": null,
   "metadata": {},
   "outputs": [],
   "source": []
  },
  {
   "cell_type": "code",
   "execution_count": null,
   "metadata": {},
   "outputs": [],
   "source": []
  },
  {
   "cell_type": "markdown",
   "metadata": {},
   "source": [
    "2. Estimate the cooperativity of the hemocyanin (i.e. Create a Hill Plot). An estimate of cooperativity between hemocyanin subunits can bbe obtained by plotting the log of percent saturation ove rpercent unsaturation as a function of the log of Po<sub>2</sub> and measuring the slope of the line around P<sub>50</sub> (n or sometimes n<sub>50</sub>). This number is an indec of cooperativity. The higher the number, the grater the cooperativity."
   ]
  },
  {
   "cell_type": "code",
   "execution_count": null,
   "metadata": {},
   "outputs": [],
   "source": [
    "summary(lm(hill~log(PO2), data=hem_73))\n",
    "plot(hill~log(PO2), data=hem_73)\n",
    "abline(a = -6.948, b = 1.733)"
   ]
  },
  {
   "cell_type": "code",
   "execution_count": null,
   "metadata": {},
   "outputs": [],
   "source": []
  },
  {
   "cell_type": "markdown",
   "metadata": {},
   "source": [
    "3. Create a magnitude of Bohr Shift graph."
   ]
  },
  {
   "cell_type": "code",
   "execution_count": null,
   "metadata": {},
   "outputs": [],
   "source": [
    "?glm"
   ]
  },
  {
   "cell_type": "code",
   "execution_count": null,
   "metadata": {},
   "outputs": [],
   "source": []
  }
 ],
 "metadata": {
  "kernelspec": {
   "display_name": "R",
   "language": "R",
   "name": "ir"
  },
  "language_info": {
   "codemirror_mode": "r",
   "file_extension": ".r",
   "mimetype": "text/x-r-source",
   "name": "R",
   "pygments_lexer": "r",
   "version": "3.6.1"
  }
 },
 "nbformat": 4,
 "nbformat_minor": 4
}
