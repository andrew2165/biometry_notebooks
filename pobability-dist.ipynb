{
 "cells": [
  {
   "cell_type": "markdown",
   "metadata": {},
   "source": [
    "# Biometry Lab 3 - Probility Distributions\n",
    "\n",
    "September 10, 2019"
   ]
  },
  {
   "cell_type": "markdown",
   "metadata": {},
   "source": [
    "## Section 1 - Probability Lab Exercises"
   ]
  },
  {
   "cell_type": "code",
   "execution_count": 79,
   "metadata": {},
   "outputs": [
    {
     "data": {
      "text/html": [
       "<ol class=list-inline>\n",
       "\t<li>3.3</li>\n",
       "\t<li>3.1</li>\n",
       "\t<li>3.2</li>\n",
       "</ol>\n"
      ],
      "text/latex": [
       "\\begin{enumerate*}\n",
       "\\item 3.3\n",
       "\\item 3.1\n",
       "\\item 3.2\n",
       "\\end{enumerate*}\n"
      ],
      "text/markdown": [
       "1. 3.3\n",
       "2. 3.1\n",
       "3. 3.2\n",
       "\n",
       "\n"
      ],
      "text/plain": [
       "[1] 3.3 3.1 3.2"
      ]
     },
     "metadata": {},
     "output_type": "display_data"
    }
   ],
   "source": [
    "#Q1 Simple Exercises\n",
    "# a\n",
    "# heads or tails\n",
    "# b \n",
    "# There are two options, heads is one option. P(heads) = 1/2 = 0.5\n",
    "# c\n",
    "sample(iris$Sepal.Width,3,replace = T)\n",
    "library(\"DAAG\")\n",
    "library(\"data.table\")"
   ]
  },
  {
   "cell_type": "code",
   "execution_count": 80,
   "metadata": {},
   "outputs": [],
   "source": [
    "# in the sample function call above, 3 is the sample size and\n",
    "# replace = T is telling it to sample with replacement"
   ]
  },
  {
   "cell_type": "code",
   "execution_count": 81,
   "metadata": {},
   "outputs": [],
   "source": [
    "# d\n",
    "coin = c(0,1)"
   ]
  },
  {
   "cell_type": "code",
   "execution_count": 82,
   "metadata": {},
   "outputs": [],
   "source": [
    "ss = c(1, 5, 10, 15, 20, 25, 30)"
   ]
  },
  {
   "cell_type": "code",
   "execution_count": 83,
   "metadata": {},
   "outputs": [
    {
     "name": "stdout",
     "output_type": "stream",
     "text": [
      "  [1] 1 0 0 1 0 1 1 1 1 0 0 1 0 1 1 0 0 0 0 1 1 0 0 0 1 1 1 1 0 1 0 0 1 0 1 0 0\n",
      " [38] 1 0 0 1 0 0 0 1 0 1 1 1 0 0 0 0 0 0 1 1 1 0 0 0 1 0 0 1 0 0 0 1 1 0 1 1 1\n",
      " [75] 0 0 0 1 0 0 0 0 0 0 1 0 0 1 1 0 0 1 1 1 0 1 0 0 1 0 1 0 0 0 0 1\n"
     ]
    }
   ],
   "source": [
    "w_replace = NULL\n",
    "for (i in ss) {\n",
    "    w_replace = c(w_replace, sample(coin, i, replace = T))\n",
    "}\n",
    "print(w_replace)"
   ]
  },
  {
   "cell_type": "code",
   "execution_count": 84,
   "metadata": {},
   "outputs": [
    {
     "data": {
      "text/html": [
       "0.424528301886792"
      ],
      "text/latex": [
       "0.424528301886792"
      ],
      "text/markdown": [
       "0.424528301886792"
      ],
      "text/plain": [
       "[1] 0.4245283"
      ]
     },
     "metadata": {},
     "output_type": "display_data"
    }
   ],
   "source": [
    "sum(w_replace) / length(w_replace)"
   ]
  },
  {
   "cell_type": "code",
   "execution_count": 85,
   "metadata": {},
   "outputs": [
    {
     "data": {
      "text/html": [
       "<dl class=dl-horizontal>\n",
       "\t<dt>f</dt>\n",
       "\t\t<dd>56.5883720930233</dd>\n",
       "\t<dt>m</dt>\n",
       "\t\t<dd>57.0918032786885</dd>\n",
       "</dl>\n"
      ],
      "text/latex": [
       "\\begin{description*}\n",
       "\\item[f] 56.5883720930233\n",
       "\\item[m] 57.0918032786885\n",
       "\\end{description*}\n"
      ],
      "text/markdown": [
       "f\n",
       ":   56.5883720930233m\n",
       ":   57.0918032786885\n",
       "\n"
      ],
      "text/plain": [
       "       f        m \n",
       "56.58837 57.09180 "
      ]
     },
     "metadata": {},
     "output_type": "display_data"
    }
   ],
   "source": [
    "#Q2\n",
    "# a\n",
    "tapply(possum$skullw, possum$sex, mean)"
   ]
  },
  {
   "cell_type": "code",
   "execution_count": 86,
   "metadata": {},
   "outputs": [
    {
     "data": {
      "text/html": [
       "<table>\n",
       "<caption>A matrix: 2 × 3 of type dbl</caption>\n",
       "<thead>\n",
       "\t<tr><th></th><th scope=col>mean</th><th scope=col>v</th><th scope=col>l</th></tr>\n",
       "</thead>\n",
       "<tbody>\n",
       "\t<tr><th scope=row>f</th><td>87.90698</td><td>17.49114</td><td>43</td></tr>\n",
       "\t<tr><th scope=row>m</th><td>86.51148</td><td>18.83470</td><td>61</td></tr>\n",
       "</tbody>\n",
       "</table>\n"
      ],
      "text/latex": [
       "A matrix: 2 × 3 of type dbl\n",
       "\\begin{tabular}{r|lll}\n",
       "  & mean & v & l\\\\\n",
       "\\hline\n",
       "\tf & 87.90698 & 17.49114 & 43\\\\\n",
       "\tm & 86.51148 & 18.83470 & 61\\\\\n",
       "\\end{tabular}\n"
      ],
      "text/markdown": [
       "\n",
       "A matrix: 2 × 3 of type dbl\n",
       "\n",
       "| <!--/--> | mean | v | l |\n",
       "|---|---|---|---|\n",
       "| f | 87.90698 | 17.49114 | 43 |\n",
       "| m | 86.51148 | 18.83470 | 61 |\n",
       "\n"
      ],
      "text/plain": [
       "  mean     v        l \n",
       "f 87.90698 17.49114 43\n",
       "m 86.51148 18.83470 61"
      ]
     },
     "metadata": {},
     "output_type": "display_data"
    }
   ],
   "source": [
    "# b\n",
    "cbind(mean = tapply(possum$totlngth, possum$sex, mean),\n",
    "v = tapply(possum$totlngth, possum$sex, var),\n",
    "l = tapply(possum$totlngth, possum$sex, length))"
   ]
  },
  {
   "cell_type": "code",
   "execution_count": 87,
   "metadata": {},
   "outputs": [],
   "source": [
    "# Q3\n",
    "suppressMessages(library(\"dplyr\"))\n",
    "suppressMessages(library(\"DAAG\"))"
   ]
  },
  {
   "cell_type": "code",
   "execution_count": 88,
   "metadata": {},
   "outputs": [
    {
     "data": {
      "text/html": [
       "<table>\n",
       "<caption>A data.frame: 3 × 14</caption>\n",
       "<thead>\n",
       "\t<tr><th scope=col>case</th><th scope=col>site</th><th scope=col>Pop</th><th scope=col>sex</th><th scope=col>age</th><th scope=col>hdlngth</th><th scope=col>skullw</th><th scope=col>totlngth</th><th scope=col>taill</th><th scope=col>footlgth</th><th scope=col>earconch</th><th scope=col>eye</th><th scope=col>chest</th><th scope=col>belly</th></tr>\n",
       "\t<tr><th scope=col>&lt;dbl&gt;</th><th scope=col>&lt;dbl&gt;</th><th scope=col>&lt;fct&gt;</th><th scope=col>&lt;fct&gt;</th><th scope=col>&lt;dbl&gt;</th><th scope=col>&lt;dbl&gt;</th><th scope=col>&lt;dbl&gt;</th><th scope=col>&lt;dbl&gt;</th><th scope=col>&lt;dbl&gt;</th><th scope=col>&lt;dbl&gt;</th><th scope=col>&lt;dbl&gt;</th><th scope=col>&lt;dbl&gt;</th><th scope=col>&lt;dbl&gt;</th><th scope=col>&lt;dbl&gt;</th></tr>\n",
       "</thead>\n",
       "<tbody>\n",
       "\t<tr><td>39</td><td>2</td><td>Vic</td><td>f</td><td> 1</td><td>84.7</td><td>51.5</td><td>75</td><td>34.0</td><td>68.7</td><td>53.4</td><td>13.0</td><td>25.0</td><td>25</td></tr>\n",
       "\t<tr><td>42</td><td>2</td><td>Vic</td><td>m</td><td> 3</td><td>85.3</td><td>54.1</td><td>77</td><td>32.0</td><td>62.7</td><td>51.2</td><td>13.8</td><td>25.5</td><td>33</td></tr>\n",
       "\t<tr><td>44</td><td>2</td><td>Vic</td><td>m</td><td>NA</td><td>85.1</td><td>51.5</td><td>76</td><td>35.5</td><td>70.3</td><td>52.6</td><td>14.4</td><td>23.0</td><td>27</td></tr>\n",
       "</tbody>\n",
       "</table>\n"
      ],
      "text/latex": [
       "A data.frame: 3 × 14\n",
       "\\begin{tabular}{r|llllllllllllll}\n",
       " case & site & Pop & sex & age & hdlngth & skullw & totlngth & taill & footlgth & earconch & eye & chest & belly\\\\\n",
       " <dbl> & <dbl> & <fct> & <fct> & <dbl> & <dbl> & <dbl> & <dbl> & <dbl> & <dbl> & <dbl> & <dbl> & <dbl> & <dbl>\\\\\n",
       "\\hline\n",
       "\t 39 & 2 & Vic & f &  1 & 84.7 & 51.5 & 75 & 34.0 & 68.7 & 53.4 & 13.0 & 25.0 & 25\\\\\n",
       "\t 42 & 2 & Vic & m &  3 & 85.3 & 54.1 & 77 & 32.0 & 62.7 & 51.2 & 13.8 & 25.5 & 33\\\\\n",
       "\t 44 & 2 & Vic & m & NA & 85.1 & 51.5 & 76 & 35.5 & 70.3 & 52.6 & 14.4 & 23.0 & 27\\\\\n",
       "\\end{tabular}\n"
      ],
      "text/markdown": [
       "\n",
       "A data.frame: 3 × 14\n",
       "\n",
       "| case &lt;dbl&gt; | site &lt;dbl&gt; | Pop &lt;fct&gt; | sex &lt;fct&gt; | age &lt;dbl&gt; | hdlngth &lt;dbl&gt; | skullw &lt;dbl&gt; | totlngth &lt;dbl&gt; | taill &lt;dbl&gt; | footlgth &lt;dbl&gt; | earconch &lt;dbl&gt; | eye &lt;dbl&gt; | chest &lt;dbl&gt; | belly &lt;dbl&gt; |\n",
       "|---|---|---|---|---|---|---|---|---|---|---|---|---|---|\n",
       "| 39 | 2 | Vic | f |  1 | 84.7 | 51.5 | 75 | 34.0 | 68.7 | 53.4 | 13.0 | 25.0 | 25 |\n",
       "| 42 | 2 | Vic | m |  3 | 85.3 | 54.1 | 77 | 32.0 | 62.7 | 51.2 | 13.8 | 25.5 | 33 |\n",
       "| 44 | 2 | Vic | m | NA | 85.1 | 51.5 | 76 | 35.5 | 70.3 | 52.6 | 14.4 | 23.0 | 27 |\n",
       "\n"
      ],
      "text/plain": [
       "  case site Pop sex age hdlngth skullw totlngth taill footlgth earconch eye \n",
       "1 39   2    Vic f    1  84.7    51.5   75       34.0  68.7     53.4     13.0\n",
       "2 42   2    Vic m    3  85.3    54.1   77       32.0  62.7     51.2     13.8\n",
       "3 44   2    Vic m   NA  85.1    51.5   76       35.5  70.3     52.6     14.4\n",
       "  chest belly\n",
       "1 25.0  25   \n",
       "2 25.5  33   \n",
       "3 23.0  27   "
      ]
     },
     "metadata": {},
     "output_type": "display_data"
    }
   ],
   "source": [
    "filter(possum, Pop== 'Vic', totlngth<80)"
   ]
  },
  {
   "cell_type": "code",
   "execution_count": 89,
   "metadata": {},
   "outputs": [
    {
     "data": {
      "text/html": [
       "<table>\n",
       "<caption>A data.frame: 3 × 14</caption>\n",
       "<thead>\n",
       "\t<tr><th></th><th scope=col>case</th><th scope=col>site</th><th scope=col>Pop</th><th scope=col>sex</th><th scope=col>age</th><th scope=col>hdlngth</th><th scope=col>skullw</th><th scope=col>totlngth</th><th scope=col>taill</th><th scope=col>footlgth</th><th scope=col>earconch</th><th scope=col>eye</th><th scope=col>chest</th><th scope=col>belly</th></tr>\n",
       "\t<tr><th></th><th scope=col>&lt;dbl&gt;</th><th scope=col>&lt;dbl&gt;</th><th scope=col>&lt;fct&gt;</th><th scope=col>&lt;fct&gt;</th><th scope=col>&lt;dbl&gt;</th><th scope=col>&lt;dbl&gt;</th><th scope=col>&lt;dbl&gt;</th><th scope=col>&lt;dbl&gt;</th><th scope=col>&lt;dbl&gt;</th><th scope=col>&lt;dbl&gt;</th><th scope=col>&lt;dbl&gt;</th><th scope=col>&lt;dbl&gt;</th><th scope=col>&lt;dbl&gt;</th><th scope=col>&lt;dbl&gt;</th></tr>\n",
       "</thead>\n",
       "<tbody>\n",
       "\t<tr><th scope=row>BB31</th><td>39</td><td>2</td><td>Vic</td><td>f</td><td> 1</td><td>84.7</td><td>51.5</td><td>75</td><td>34.0</td><td>68.7</td><td>53.4</td><td>13.0</td><td>25.0</td><td>25</td></tr>\n",
       "\t<tr><th scope=row>BB38</th><td>42</td><td>2</td><td>Vic</td><td>m</td><td> 3</td><td>85.3</td><td>54.1</td><td>77</td><td>32.0</td><td>62.7</td><td>51.2</td><td>13.8</td><td>25.5</td><td>33</td></tr>\n",
       "\t<tr><th scope=row>BB41</th><td>44</td><td>2</td><td>Vic</td><td>m</td><td>NA</td><td>85.1</td><td>51.5</td><td>76</td><td>35.5</td><td>70.3</td><td>52.6</td><td>14.4</td><td>23.0</td><td>27</td></tr>\n",
       "</tbody>\n",
       "</table>\n"
      ],
      "text/latex": [
       "A data.frame: 3 × 14\n",
       "\\begin{tabular}{r|llllllllllllll}\n",
       "  & case & site & Pop & sex & age & hdlngth & skullw & totlngth & taill & footlgth & earconch & eye & chest & belly\\\\\n",
       "  & <dbl> & <dbl> & <fct> & <fct> & <dbl> & <dbl> & <dbl> & <dbl> & <dbl> & <dbl> & <dbl> & <dbl> & <dbl> & <dbl>\\\\\n",
       "\\hline\n",
       "\tBB31 & 39 & 2 & Vic & f &  1 & 84.7 & 51.5 & 75 & 34.0 & 68.7 & 53.4 & 13.0 & 25.0 & 25\\\\\n",
       "\tBB38 & 42 & 2 & Vic & m &  3 & 85.3 & 54.1 & 77 & 32.0 & 62.7 & 51.2 & 13.8 & 25.5 & 33\\\\\n",
       "\tBB41 & 44 & 2 & Vic & m & NA & 85.1 & 51.5 & 76 & 35.5 & 70.3 & 52.6 & 14.4 & 23.0 & 27\\\\\n",
       "\\end{tabular}\n"
      ],
      "text/markdown": [
       "\n",
       "A data.frame: 3 × 14\n",
       "\n",
       "| <!--/--> | case &lt;dbl&gt; | site &lt;dbl&gt; | Pop &lt;fct&gt; | sex &lt;fct&gt; | age &lt;dbl&gt; | hdlngth &lt;dbl&gt; | skullw &lt;dbl&gt; | totlngth &lt;dbl&gt; | taill &lt;dbl&gt; | footlgth &lt;dbl&gt; | earconch &lt;dbl&gt; | eye &lt;dbl&gt; | chest &lt;dbl&gt; | belly &lt;dbl&gt; |\n",
       "|---|---|---|---|---|---|---|---|---|---|---|---|---|---|---|\n",
       "| BB31 | 39 | 2 | Vic | f |  1 | 84.7 | 51.5 | 75 | 34.0 | 68.7 | 53.4 | 13.0 | 25.0 | 25 |\n",
       "| BB38 | 42 | 2 | Vic | m |  3 | 85.3 | 54.1 | 77 | 32.0 | 62.7 | 51.2 | 13.8 | 25.5 | 33 |\n",
       "| BB41 | 44 | 2 | Vic | m | NA | 85.1 | 51.5 | 76 | 35.5 | 70.3 | 52.6 | 14.4 | 23.0 | 27 |\n",
       "\n"
      ],
      "text/plain": [
       "     case site Pop sex age hdlngth skullw totlngth taill footlgth earconch eye \n",
       "BB31 39   2    Vic f    1  84.7    51.5   75       34.0  68.7     53.4     13.0\n",
       "BB38 42   2    Vic m    3  85.3    54.1   77       32.0  62.7     51.2     13.8\n",
       "BB41 44   2    Vic m   NA  85.1    51.5   76       35.5  70.3     52.6     14.4\n",
       "     chest belly\n",
       "BB31 25.0  25   \n",
       "BB38 25.5  33   \n",
       "BB41 23.0  27   "
      ]
     },
     "metadata": {},
     "output_type": "display_data"
    }
   ],
   "source": [
    "possum[possum$Pop=='Vic' & possum$totlngth<80,]"
   ]
  },
  {
   "cell_type": "code",
   "execution_count": 90,
   "metadata": {},
   "outputs": [
    {
     "data": {
      "text/html": [
       "<table>\n",
       "<caption>A grouped_df: 4 × 5</caption>\n",
       "<thead>\n",
       "\t<tr><th scope=col>Pop</th><th scope=col>sex</th><th scope=col>n</th><th scope=col>sd</th><th scope=col>mean</th></tr>\n",
       "\t<tr><th scope=col>&lt;fct&gt;</th><th scope=col>&lt;fct&gt;</th><th scope=col>&lt;int&gt;</th><th scope=col>&lt;dbl&gt;</th><th scope=col>&lt;dbl&gt;</th></tr>\n",
       "</thead>\n",
       "<tbody>\n",
       "\t<tr><td>Vic  </td><td>f</td><td>24</td><td>4.957793</td><td>88.33333</td></tr>\n",
       "\t<tr><td>Vic  </td><td>m</td><td>22</td><td>4.648290</td><td>86.52273</td></tr>\n",
       "\t<tr><td>other</td><td>f</td><td>19</td><td>2.976025</td><td>87.36842</td></tr>\n",
       "\t<tr><td>other</td><td>m</td><td>39</td><td>4.218814</td><td>86.50513</td></tr>\n",
       "</tbody>\n",
       "</table>\n"
      ],
      "text/latex": [
       "A grouped_df: 4 × 5\n",
       "\\begin{tabular}{r|lllll}\n",
       " Pop & sex & n & sd & mean\\\\\n",
       " <fct> & <fct> & <int> & <dbl> & <dbl>\\\\\n",
       "\\hline\n",
       "\t Vic   & f & 24 & 4.957793 & 88.33333\\\\\n",
       "\t Vic   & m & 22 & 4.648290 & 86.52273\\\\\n",
       "\t other & f & 19 & 2.976025 & 87.36842\\\\\n",
       "\t other & m & 39 & 4.218814 & 86.50513\\\\\n",
       "\\end{tabular}\n"
      ],
      "text/markdown": [
       "\n",
       "A grouped_df: 4 × 5\n",
       "\n",
       "| Pop &lt;fct&gt; | sex &lt;fct&gt; | n &lt;int&gt; | sd &lt;dbl&gt; | mean &lt;dbl&gt; |\n",
       "|---|---|---|---|---|\n",
       "| Vic   | f | 24 | 4.957793 | 88.33333 |\n",
       "| Vic   | m | 22 | 4.648290 | 86.52273 |\n",
       "| other | f | 19 | 2.976025 | 87.36842 |\n",
       "| other | m | 39 | 4.218814 | 86.50513 |\n",
       "\n"
      ],
      "text/plain": [
       "  Pop   sex n  sd       mean    \n",
       "1 Vic   f   24 4.957793 88.33333\n",
       "2 Vic   m   22 4.648290 86.52273\n",
       "3 other f   19 2.976025 87.36842\n",
       "4 other m   39 4.218814 86.50513"
      ]
     },
     "metadata": {},
     "output_type": "display_data"
    }
   ],
   "source": [
    "# d\n",
    "results <- possum %>%\n",
    "     group_by(Pop, sex) %>%\n",
    "     summarize(n=n(), sd=sd(totlngth), mean=mean(totlngth))\n",
    " results"
   ]
  },
  {
   "cell_type": "markdown",
   "metadata": {},
   "source": [
    "\n",
    "## Section 2 - Discrete Distributions"
   ]
  },
  {
   "cell_type": "code",
   "execution_count": 91,
   "metadata": {},
   "outputs": [
    {
     "data": {
      "text/html": [
       "<table>\n",
       "<caption>A data.frame: 12 × 4</caption>\n",
       "<thead>\n",
       "\t<tr><th scope=col>block</th><th scope=col>plant</th><th scope=col>fruits</th><th scope=col>diameter</th></tr>\n",
       "\t<tr><th scope=col>&lt;int&gt;</th><th scope=col>&lt;int&gt;</th><th scope=col>&lt;int&gt;</th><th scope=col>&lt;dbl&gt;</th></tr>\n",
       "</thead>\n",
       "<tbody>\n",
       "\t<tr><td> 4</td><td> 1</td><td>2027</td><td>65.0</td></tr>\n",
       "\t<tr><td> 5</td><td> 1</td><td>1879</td><td>78.5</td></tr>\n",
       "\t<tr><td> 6</td><td> 1</td><td>2723</td><td>76.0</td></tr>\n",
       "\t<tr><td> 7</td><td>17</td><td> 984</td><td>47.0</td></tr>\n",
       "\t<tr><td> 8</td><td> 1</td><td> 442</td><td>25.0</td></tr>\n",
       "\t<tr><td> 9</td><td> 1</td><td> 519</td><td>28.0</td></tr>\n",
       "\t<tr><td>10</td><td> 1</td><td> 347</td><td>10.0</td></tr>\n",
       "\t<tr><td>11</td><td> 1</td><td> 666</td><td>22.0</td></tr>\n",
       "\t<tr><td>12</td><td> 1</td><td>1882</td><td>40.0</td></tr>\n",
       "\t<tr><td>13</td><td> 1</td><td>1111</td><td>54.0</td></tr>\n",
       "\t<tr><td>14</td><td> 1</td><td>1669</td><td>73.0</td></tr>\n",
       "\t<tr><td>15</td><td> 1</td><td>1193</td><td>44.0</td></tr>\n",
       "</tbody>\n",
       "</table>\n"
      ],
      "text/latex": [
       "A data.frame: 12 × 4\n",
       "\\begin{tabular}{r|llll}\n",
       " block & plant & fruits & diameter\\\\\n",
       " <int> & <int> & <int> & <dbl>\\\\\n",
       "\\hline\n",
       "\t  4 &  1 & 2027 & 65.0\\\\\n",
       "\t  5 &  1 & 1879 & 78.5\\\\\n",
       "\t  6 &  1 & 2723 & 76.0\\\\\n",
       "\t  7 & 17 &  984 & 47.0\\\\\n",
       "\t  8 &  1 &  442 & 25.0\\\\\n",
       "\t  9 &  1 &  519 & 28.0\\\\\n",
       "\t 10 &  1 &  347 & 10.0\\\\\n",
       "\t 11 &  1 &  666 & 22.0\\\\\n",
       "\t 12 &  1 & 1882 & 40.0\\\\\n",
       "\t 13 &  1 & 1111 & 54.0\\\\\n",
       "\t 14 &  1 & 1669 & 73.0\\\\\n",
       "\t 15 &  1 & 1193 & 44.0\\\\\n",
       "\\end{tabular}\n"
      ],
      "text/markdown": [
       "\n",
       "A data.frame: 12 × 4\n",
       "\n",
       "| block &lt;int&gt; | plant &lt;int&gt; | fruits &lt;int&gt; | diameter &lt;dbl&gt; |\n",
       "|---|---|---|---|\n",
       "|  4 |  1 | 2027 | 65.0 |\n",
       "|  5 |  1 | 1879 | 78.5 |\n",
       "|  6 |  1 | 2723 | 76.0 |\n",
       "|  7 | 17 |  984 | 47.0 |\n",
       "|  8 |  1 |  442 | 25.0 |\n",
       "|  9 |  1 |  519 | 28.0 |\n",
       "| 10 |  1 |  347 | 10.0 |\n",
       "| 11 |  1 |  666 | 22.0 |\n",
       "| 12 |  1 | 1882 | 40.0 |\n",
       "| 13 |  1 | 1111 | 54.0 |\n",
       "| 14 |  1 | 1669 | 73.0 |\n",
       "| 15 |  1 | 1193 | 44.0 |\n",
       "\n"
      ],
      "text/plain": [
       "   block plant fruits diameter\n",
       "1   4     1    2027   65.0    \n",
       "2   5     1    1879   78.5    \n",
       "3   6     1    2723   76.0    \n",
       "4   7    17     984   47.0    \n",
       "5   8     1     442   25.0    \n",
       "6   9     1     519   28.0    \n",
       "7  10     1     347   10.0    \n",
       "8  11     1     666   22.0    \n",
       "9  12     1    1882   40.0    \n",
       "10 13     1    1111   54.0    \n",
       "11 14     1    1669   73.0    \n",
       "12 15     1    1193   44.0    "
      ]
     },
     "metadata": {},
     "output_type": "display_data"
    }
   ],
   "source": [
    "fc = read.csv('./fruit_count.csv')\n",
    "fc"
   ]
  },
  {
   "cell_type": "code",
   "execution_count": 92,
   "metadata": {},
   "outputs": [
    {
     "data": {
      "image/png": "[encoded data removed]",
      "text/plain": [
       "Plot with title “Histogram of fc$fruits”"
      ]
     },
     "metadata": {
      "image/png": {
       "height": 420,
       "width": 420
      },
      "text/plain": {
       "height": 420,
       "width": 420
      }
     },
     "output_type": "display_data"
    }
   ],
   "source": [
    "hist(fc$fruits)"
   ]
  },
  {
   "cell_type": "code",
   "execution_count": 93,
   "metadata": {},
   "outputs": [
    {
     "data": {
      "image/png": "[encoded data removed]",
      "text/plain": [
       "plot without title"
      ]
     },
     "metadata": {
      "image/png": {
       "height": 420,
       "width": 420
      },
      "text/plain": {
       "height": 420,
       "width": 420
      }
     },
     "output_type": "display_data"
    }
   ],
   "source": [
    "histogram(fc$fruits)"
   ]
  },
  {
   "cell_type": "code",
   "execution_count": 94,
   "metadata": {},
   "outputs": [
    {
     "data": {
      "text/html": [
       "<ol class=list-inline>\n",
       "\t<li>0.0563135147094727</li>\n",
       "\t<li>0.187711715698242</li>\n",
       "\t<li>0.281567573547363</li>\n",
       "\t<li>0.250282287597656</li>\n",
       "\t<li>0.145998001098633</li>\n",
       "\t<li>0.0583992004394531</li>\n",
       "\t<li>0.0162220001220703</li>\n",
       "\t<li>0.00308990478515625</li>\n",
       "\t<li>0.000386238098144531</li>\n",
       "\t<li>2.86102294921875e-05</li>\n",
       "\t<li>9.5367431640625e-07</li>\n",
       "</ol>\n"
      ],
      "text/latex": [
       "\\begin{enumerate*}\n",
       "\\item 0.0563135147094727\n",
       "\\item 0.187711715698242\n",
       "\\item 0.281567573547363\n",
       "\\item 0.250282287597656\n",
       "\\item 0.145998001098633\n",
       "\\item 0.0583992004394531\n",
       "\\item 0.0162220001220703\n",
       "\\item 0.00308990478515625\n",
       "\\item 0.000386238098144531\n",
       "\\item 2.86102294921875e-05\n",
       "\\item 9.5367431640625e-07\n",
       "\\end{enumerate*}\n"
      ],
      "text/markdown": [
       "1. 0.0563135147094727\n",
       "2. 0.187711715698242\n",
       "3. 0.281567573547363\n",
       "4. 0.250282287597656\n",
       "5. 0.145998001098633\n",
       "6. 0.0583992004394531\n",
       "7. 0.0162220001220703\n",
       "8. 0.00308990478515625\n",
       "9. 0.000386238098144531\n",
       "10. 2.86102294921875e-05\n",
       "11. 9.5367431640625e-07\n",
       "\n",
       "\n"
      ],
      "text/plain": [
       " [1] 5.631351e-02 1.877117e-01 2.815676e-01 2.502823e-01 1.459980e-01\n",
       " [6] 5.839920e-02 1.622200e-02 3.089905e-03 3.862381e-04 2.861023e-05\n",
       "[11] 9.536743e-07"
      ]
     },
     "metadata": {},
     "output_type": "display_data"
    }
   ],
   "source": [
    "dbinom(c(0:10), 10, 0.25)"
   ]
  },
  {
   "cell_type": "code",
   "execution_count": 95,
   "metadata": {},
   "outputs": [
    {
     "data": {
      "text/html": [
       "<table>\n",
       "<caption>A data.table: 13 × 2</caption>\n",
       "<thead>\n",
       "\t<tr><th scope=col>num.males</th><th scope=col>frq.obs</th></tr>\n",
       "\t<tr><th scope=col>&lt;dbl&gt;</th><th scope=col>&lt;dbl&gt;</th></tr>\n",
       "</thead>\n",
       "<tbody>\n",
       "\t<tr><td> 0</td><td>   7</td></tr>\n",
       "\t<tr><td> 1</td><td>  45</td></tr>\n",
       "\t<tr><td> 2</td><td> 181</td></tr>\n",
       "\t<tr><td> 3</td><td> 478</td></tr>\n",
       "\t<tr><td> 4</td><td> 829</td></tr>\n",
       "\t<tr><td> 5</td><td>1112</td></tr>\n",
       "\t<tr><td> 6</td><td>1343</td></tr>\n",
       "\t<tr><td> 7</td><td>1033</td></tr>\n",
       "\t<tr><td> 8</td><td> 670</td></tr>\n",
       "\t<tr><td> 9</td><td> 286</td></tr>\n",
       "\t<tr><td>10</td><td> 104</td></tr>\n",
       "\t<tr><td>11</td><td>  24</td></tr>\n",
       "\t<tr><td>12</td><td>   3</td></tr>\n",
       "</tbody>\n",
       "</table>\n"
      ],
      "text/latex": [
       "A data.table: 13 × 2\n",
       "\\begin{tabular}{r|ll}\n",
       " num.males & frq.obs\\\\\n",
       " <dbl> & <dbl>\\\\\n",
       "\\hline\n",
       "\t  0 &    7\\\\\n",
       "\t  1 &   45\\\\\n",
       "\t  2 &  181\\\\\n",
       "\t  3 &  478\\\\\n",
       "\t  4 &  829\\\\\n",
       "\t  5 & 1112\\\\\n",
       "\t  6 & 1343\\\\\n",
       "\t  7 & 1033\\\\\n",
       "\t  8 &  670\\\\\n",
       "\t  9 &  286\\\\\n",
       "\t 10 &  104\\\\\n",
       "\t 11 &   24\\\\\n",
       "\t 12 &    3\\\\\n",
       "\\end{tabular}\n"
      ],
      "text/markdown": [
       "\n",
       "A data.table: 13 × 2\n",
       "\n",
       "| num.males &lt;dbl&gt; | frq.obs &lt;dbl&gt; |\n",
       "|---|---|\n",
       "|  0 |    7 |\n",
       "|  1 |   45 |\n",
       "|  2 |  181 |\n",
       "|  3 |  478 |\n",
       "|  4 |  829 |\n",
       "|  5 | 1112 |\n",
       "|  6 | 1343 |\n",
       "|  7 | 1033 |\n",
       "|  8 |  670 |\n",
       "|  9 |  286 |\n",
       "| 10 |  104 |\n",
       "| 11 |   24 |\n",
       "| 12 |    3 |\n",
       "\n"
      ],
      "text/plain": [
       "   num.males frq.obs\n",
       "1   0           7   \n",
       "2   1          45   \n",
       "3   2         181   \n",
       "4   3         478   \n",
       "5   4         829   \n",
       "6   5        1112   \n",
       "7   6        1343   \n",
       "8   7        1033   \n",
       "9   8         670   \n",
       "10  9         286   \n",
       "11 10         104   \n",
       "12 11          24   \n",
       "13 12           3   "
      ]
     },
     "metadata": {},
     "output_type": "display_data"
    }
   ],
   "source": [
    "num.males <- c(0,1,2,3,4,5,6,7,8,9,10,11,12)\n",
    "frq.obs <- c(7,45,181,478,829,1112,1343,1033,670,286,104,24,3)\n",
    "d = data.table(num.males, frq.obs)\n",
    "d"
   ]
  },
  {
   "cell_type": "code",
   "execution_count": 96,
   "metadata": {},
   "outputs": [
    {
     "data": {
      "text/html": [
       "5.76941946034342"
      ],
      "text/latex": [
       "5.76941946034342"
      ],
      "text/markdown": [
       "5.76941946034342"
      ],
      "text/plain": [
       "[1] 5.769419"
      ]
     },
     "metadata": {},
     "output_type": "display_data"
    }
   ],
   "source": [
    "m = sum(num.males * frq.obs) / sum(frq.obs)\n",
    "m"
   ]
  },
  {
   "cell_type": "code",
   "execution_count": 97,
   "metadata": {},
   "outputs": [
    {
     "data": {
      "text/html": [
       "<ol class=list-inline>\n",
       "\t<li>-4.65272658270557</li>\n",
       "\t<li>-18.9175413662527</li>\n",
       "\t<li>-48.1642972889154</li>\n",
       "\t<li>-67.9874373012191</li>\n",
       "\t<li>25.246646378719</li>\n",
       "\t<li>153.630306949765</li>\n",
       "\t<li>24.2793552244711</li>\n",
       "\t<li>52.2107008395819</li>\n",
       "\t<li>-41.9449880967779</li>\n",
       "\t<li>-27.5248664923221</li>\n",
       "\t<li>-32.1968290539299</li>\n",
       "\t<li>-11.9111626295521</li>\n",
       "\t<li>-2.06716058086308</li>\n",
       "</ol>\n"
      ],
      "text/latex": [
       "\\begin{enumerate*}\n",
       "\\item -4.65272658270557\n",
       "\\item -18.9175413662527\n",
       "\\item -48.1642972889154\n",
       "\\item -67.9874373012191\n",
       "\\item 25.246646378719\n",
       "\\item 153.630306949765\n",
       "\\item 24.2793552244711\n",
       "\\item 52.2107008395819\n",
       "\\item -41.9449880967779\n",
       "\\item -27.5248664923221\n",
       "\\item -32.1968290539299\n",
       "\\item -11.9111626295521\n",
       "\\item -2.06716058086308\n",
       "\\end{enumerate*}\n"
      ],
      "text/markdown": [
       "1. -4.65272658270557\n",
       "2. -18.9175413662527\n",
       "3. -48.1642972889154\n",
       "4. -67.9874373012191\n",
       "5. 25.246646378719\n",
       "6. 153.630306949765\n",
       "7. 24.2793552244711\n",
       "8. 52.2107008395819\n",
       "9. -41.9449880967779\n",
       "10. -27.5248664923221\n",
       "11. -32.1968290539299\n",
       "12. -11.9111626295521\n",
       "13. -2.06716058086308\n",
       "\n",
       "\n"
      ],
      "text/plain": [
       " [1]  -4.652727 -18.917541 -48.164297 -67.987437  25.246646 153.630307\n",
       " [7]  24.279355  52.210701 -41.944988 -27.524866 -32.196829 -11.911163\n",
       "[13]  -2.067161"
      ]
     },
     "metadata": {},
     "output_type": "display_data"
    }
   ],
   "source": [
    "dbinom(c(0:12), 12, 5.76941946034342/12) * sum(frq.obs) - frq.obs"
   ]
  },
  {
   "cell_type": "code",
   "execution_count": null,
   "metadata": {},
   "outputs": [],
   "source": []
  }
 ],
 "metadata": {
  "kernelspec": {
   "display_name": "R",
   "language": "R",
   "name": "ir"
  },
  "language_info": {
   "codemirror_mode": "r",
   "file_extension": ".r",
   "mimetype": "text/x-r-source",
   "name": "R",
   "pygments_lexer": "r",
   "version": "3.6.1"
  }
 },
 "nbformat": 4,
 "nbformat_minor": 4
}
